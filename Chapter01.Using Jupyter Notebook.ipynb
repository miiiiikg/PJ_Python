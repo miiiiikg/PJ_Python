{
 "cells": [
  {
   "cell_type": "markdown",
   "metadata": {},
   "source": [
    "## 1. 주피터 노트북은 Cell을 만들어서 사용\n",
    "- 입력모드(녹색 테두리): 사용자가 Cell에 커서를 갖다대면 타이핑 가능\n",
    "- 명령모드(파랑 테두리): 입력모드에서 ESC키를 입력하면 파랑테두리로 변함\n",
    "\n",
    "명령모드에서 h를 누르면 Help로 주피터 노트북의 단축키 보여줌\n",
    "\n",
    "- Shift + Enter: 현재 cell 실행 후 하단으로 이동(하단에 Cell이 없으면 생성 후 이동)\n",
    "- Ctrl + Enter: 현재 Cell 실행안함\n",
    "- Alt + Enter: 현지 Cell 실행 후 하단에 Celll 생성"
   ]
  },
  {
   "cell_type": "markdown",
   "metadata": {},
   "source": [
    "## 2. Cell Type\n",
    "- 상단 New 메뉴에서 [Cell]-[Cell Type]로 변경 가능\n",
    "- 명령모드에서 m을 누르면 Markdown Type으로 변경\n",
    "- 명령모드에서 y를 누르면 code Type으로 변경\n",
    "\n",
    "- Code: Cell 옆에 In[  ]: 이 뜨는 Cell, 코드 작성 모드 []안의 숫자는 몇번째 실행했는지 Count 수\n",
    "- markdown: 코드에 대한 설명 및 주석"
   ]
  },
  {
   "cell_type": "markdown",
   "metadata": {},
   "source": [
    "## 3.Markdown 명령어\n",
    "\n",
    "### 3.1 Title 만들기(#개수가 적을 수록 작은크기의 제목)\n",
    "# Hello Python\n",
    "## Hello Python\n",
    "### Hello Python\n",
    "#### Hello Python"
   ]
  },
  {
   "cell_type": "markdown",
   "metadata": {},
   "source": [
    "## 3.2 진하게 만들기\n",
    "- 단어 앞 뒤에 **입력\n",
    "\n",
    "**python** is really cool"
   ]
  },
  {
   "cell_type": "markdown",
   "metadata": {},
   "source": [
    "### 3.3 이텔릭체 만들기\n",
    "- 단어 앞 뒤에 *입력\n",
    "\n",
    "python is really cool"
   ]
  },
  {
   "cell_type": "markdown",
   "metadata": {},
   "source": [
    "### 3.4 순서없는 list 만들기\n",
    "- Python\n",
    "  - pandas\n",
    "     - depth1\n",
    "     - depth2\n",
    "- jaca\n",
    "- c++\n",
    "- goiang"
   ]
  },
  {
   "cell_type": "markdown",
   "metadata": {},
   "source": [
    "### 3.5 순서있는 list 만들기\n",
    "1. Python\n",
    "2. java\n",
    "3. c++"
   ]
  },
  {
   "cell_type": "markdown",
   "metadata": {},
   "source": [
    "### 3.6 인용구 만들기\n",
    "> 파이썬은 재밌다고 하더라..."
   ]
  },
  {
   "cell_type": "markdown",
   "metadata": {},
   "source": [
    "### 3.7 수식 표현 하기\n",
    "$y=3x$"
   ]
  },
  {
   "cell_type": "markdown",
   "metadata": {},
   "source": [
    "### 3.8 파이썬 코드 표현하기\n",
    "'''Python\n",
    "a = 10\n",
    "print(a)\n",
    "'''"
   ]
  },
  {
   "cell_type": "markdown",
   "metadata": {},
   "source": [
    "### 3.9 하이퍼링크 만들기\n",
    "\n",
    "[Python](http:///www.python.org)"
   ]
  },
  {
   "cell_type": "markdown",
   "metadata": {},
   "source": [
    "안녕하세요  \n",
    "도비동선이에요."
   ]
  }
 ],
 "metadata": {
  "kernelspec": {
   "display_name": "Python 3",
   "language": "python",
   "name": "python3"
  },
  "language_info": {
   "codemirror_mode": {
    "name": "ipython",
    "version": 3
   },
   "file_extension": ".py",
   "mimetype": "text/x-python",
   "name": "python",
   "nbconvert_exporter": "python",
   "pygments_lexer": "ipython3",
   "version": "3.7.7"
  }
 },
 "nbformat": 4,
 "nbformat_minor": 4
}
